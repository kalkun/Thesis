{
 "cells": [
  {
   "cell_type": "markdown",
   "metadata": {},
   "source": [
    "# UCLA Model Combined Datasets\n",
    "\n",
    "This notebook is aimed at applying the exact same model as UCLA in the newly combined dataset (ITU + UCLA)"
   ]
  },
  {
   "cell_type": "code",
   "execution_count": 8,
   "metadata": {
    "scrolled": true
   },
   "outputs": [],
   "source": [
    "from protestDB import cursor\n",
    "import time\n",
    "from protestDB import models\n",
    "from lib import analysis_utils as au\n",
    "import pandas as pd\n",
    "import os\n",
    "from matplotlib import pyplot as plt\n",
    "from PIL import Image\n",
    "import numpy as np\n",
    "import scipy\n",
    "from keras import backend as Kbackend\n",
    "from keras import callbacks as Kcallbacks\n",
    "from keras import optimizers as Koptimizers\n",
    "from keras import losses as Klosses\n",
    "from keras import models as Kmodels\n",
    "from keras import backend as Kbackend\n",
    "from keras import applications as Kapplications\n",
    "from keras import layers as Klayers\n",
    "import h5py\n",
    "import itertools\n",
    "from lib import transforms"
   ]
  },
  {
   "cell_type": "code",
   "execution_count": 11,
   "metadata": {},
   "outputs": [
    {
     "name": "stdout",
     "output_type": "stream",
     "text": [
      "40720  UCLA images, both protest and non protest\n",
      "1000  ITU images, only protest related\n"
     ]
    }
   ],
   "source": [
    "pc = cursor.ProtestCursor()\n",
    "imgs_UCLA = pc.getLabelledImagesAndNonProtest(source=\"UCLA\", label_source=\"UCLA original\")\n",
    "imgs_ITU = pc.getLabelledImages(source=\"Luca Rossi - ECB\")\n",
    "\n",
    "\n",
    "print (len(imgs_UCLA), \" UCLA images, both protest and non protest\")\n",
    "print (len(imgs_ITU), \" ITU images, only protest related\")\n"
   ]
  }
 ],
 "metadata": {
  "kernelspec": {
   "display_name": "Python 3",
   "language": "python",
   "name": "python3"
  },
  "language_info": {
   "codemirror_mode": {
    "name": "ipython",
    "version": 3
   },
   "file_extension": ".py",
   "mimetype": "text/x-python",
   "name": "python",
   "nbconvert_exporter": "python",
   "pygments_lexer": "ipython3",
   "version": "3.5.2"
  }
 },
 "nbformat": 4,
 "nbformat_minor": 2
}
