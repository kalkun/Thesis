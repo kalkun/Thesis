{
 "cells": [
  {
   "cell_type": "markdown",
   "metadata": {},
   "source": [
    "# UCLA model without visual attributes applied to the ITU + UCLA set"
   ]
  },
  {
   "cell_type": "markdown",
   "metadata": {},
   "source": [
    "This notebook is aimed at running the UCLA original network without visual attributes to the combination of the ITU + UCLA datasets"
   ]
  },
  {
   "cell_type": "code",
   "execution_count": 2,
   "metadata": {},
   "outputs": [
    {
     "name": "stderr",
     "output_type": "stream",
     "text": [
      "/home/lucas/Documents/ITU/Thesis_2018/venv/lib/python3.5/site-packages/h5py/__init__.py:36: FutureWarning: Conversion of the second argument of issubdtype from `float` to `np.floating` is deprecated. In future, it will be treated as `np.float64 == np.dtype(float).type`.\n",
      "  from ._conv import register_converters as _register_converters\n",
      "Using TensorFlow backend.\n"
     ]
    }
   ],
   "source": [
    "from protestDB import cursor\n",
    "import pandas as pd\n",
    "from lib import analysis_utils as au"
   ]
  },
  {
   "cell_type": "markdown",
   "metadata": {},
   "source": [
    "### Loading up the data"
   ]
  },
  {
   "cell_type": "code",
   "execution_count": 3,
   "metadata": {
    "scrolled": true
   },
   "outputs": [
    {
     "name": "stdout",
     "output_type": "stream",
     "text": [
      "40720  UCLA images, both protest and non protest\n",
      "1000  ITU images, only protest related\n"
     ]
    }
   ],
   "source": [
    "pc = cursor.ProtestCursor()\n",
    "imgs_UCLA = pc.getLabelledImagesAndNonProtest(source=\"UCLA\", label_source=\"UCLA original\")\n",
    "imgs_ITU = pc.getLabelledImages(source=\"Luca Rossi - ECB\")\n",
    "\n",
    "\n",
    "print (len(imgs_UCLA), \" UCLA images, both protest and non protest\")\n",
    "print (len(imgs_ITU), \" ITU images, only protest related\")\n"
   ]
  },
  {
   "cell_type": "code",
   "execution_count": null,
   "metadata": {},
   "outputs": [],
   "source": []
  }
 ],
 "metadata": {
  "kernelspec": {
   "display_name": "Python 3",
   "language": "python",
   "name": "python3"
  },
  "language_info": {
   "codemirror_mode": {
    "name": "ipython",
    "version": 3
   },
   "file_extension": ".py",
   "mimetype": "text/x-python",
   "name": "python",
   "nbconvert_exporter": "python",
   "pygments_lexer": "ipython3",
   "version": "3.5.2"
  }
 },
 "nbformat": 4,
 "nbformat_minor": 2
}
