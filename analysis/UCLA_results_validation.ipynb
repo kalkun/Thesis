{
 "cells": [
  {
   "cell_type": "markdown",
   "metadata": {
    "deletable": true,
    "editable": true
   },
   "source": [
    "# UCLA Results Validation\n",
    "\n",
    "This notebook is aimed at attemping to validate the results achieved by UCLA in their paper"
   ]
  },
  {
   "cell_type": "code",
   "execution_count": null,
   "metadata": {
    "collapsed": false,
    "deletable": true,
    "editable": true
   },
   "outputs": [],
   "source": [
    "from protestDB import cursor\n",
    "import time\n",
    "from protestDB import models\n",
    "from lib import analysis_utils as au\n",
    "import pandas as pd\n",
    "import os\n",
    "from matplotlib import pyplot as plt\n",
    "from PIL import Image\n",
    "import numpy as np\n",
    "import scipy\n",
    "from keras import models as Kmodels\n",
    "from keras import backend as Kbackend\n",
    "from keras import applications as Kapplications\n",
    "from keras import layers as Klayers\n",
    "from keras import callbacks as Kcallbacks\n",
    "from keras import optimizers as Koptimizers\n",
    "from keras import losses as Klosses\n",
    "import h5py\n",
    "\n",
    "from lib import transforms"
   ]
  },
  {
   "cell_type": "markdown",
   "metadata": {
    "deletable": true,
    "editable": true
   },
   "source": [
    "### Loading up the data"
   ]
  },
  {
   "cell_type": "code",
   "execution_count": null,
   "metadata": {
    "collapsed": false,
    "deletable": true,
    "editable": true
   },
   "outputs": [],
   "source": [
    "pc = cursor.ProtestCursor()\n",
    "imgs = pc.getLabelledImages(source=\"UCLA\")\n",
    "len(imgs)\n"
   ]
  },
  {
   "cell_type": "markdown",
   "metadata": {
    "deletable": true,
    "editable": true
   },
   "source": [
    "Get the labels"
   ]
  },
  {
   "cell_type": "code",
   "execution_count": null,
   "metadata": {
    "collapsed": false,
    "deletable": true,
    "editable": true,
    "scrolled": true
   },
   "outputs": [],
   "source": [
    "\n",
    "cols = [\"name\", \"label\", \"protest\"]\n",
    "tag_cols = [\"sign\", \"photo\", \"fire\", \"police\", \"children\", \"group_20\", \"group_100\", \"flag\", \"night\", \"shouting\"]\n",
    "split_tags = ['ucla-test', 'ucla-train']\n",
    "imgs = imgs[cols + tag_cols + split_tags]\n",
    "indx_non_violence = imgs['label'].isnull()\n",
    "\n",
    "imgs.loc[:,tag_cols] = imgs.loc[:,tag_cols].astype(int)\n",
    "imgs = imgs.rename(columns={\"label\": \"violence\"})\n",
    "imgs"
   ]
  },
  {
   "cell_type": "markdown",
   "metadata": {
    "deletable": true,
    "editable": true
   },
   "source": [
    "### Pre-processing"
   ]
  },
  {
   "cell_type": "code",
   "execution_count": null,
   "metadata": {
    "collapsed": false,
    "deletable": true,
    "editable": true,
    "scrolled": false
   },
   "outputs": [],
   "source": [
    "# Apply a cut point and normalize violence scores\n",
    "cutpoint = 0.43\n",
    "\n",
    "#clips\n",
    "imgs = au.clipDFColumn(imgs, 'violence', cutpoint)\n",
    "\n",
    "# normalize\n",
    "imgs = au.minMax(imgs, 'violence')\n",
    "\n",
    "# mask values that did not had violence labels\n",
    "imgs.loc[indx_non_violence, \"violence\"] = -1\n",
    "# df.loc[indx_non_violence, 'violence'] = -1\n",
    "\n",
    "# masks the visual attributes that where image is not a protest\n",
    "# for column, value in df.iloc[:,3:].iteritems(): # fill visual attributes with masking\n",
    "#     df.loc[pd.isnull(df['protest']), column] = -1\n",
    "imgs.loc[indx_non_violence, tag_cols] = -1\n",
    "    \n",
    "# fill nas\n",
    "# df.fillna(0, inplace = True)\n",
    "\n",
    "# df = imgs.rename(columns={\"label\": \"violence\"})\n",
    "df = imgs\n",
    "df"
   ]
  },
  {
   "cell_type": "code",
   "execution_count": null,
   "metadata": {
    "collapsed": false,
    "deletable": true,
    "editable": true
   },
   "outputs": [],
   "source": [
    "i = df['violence'].idxmax()\n",
    "df.loc[i]"
   ]
  },
  {
   "cell_type": "markdown",
   "metadata": {
    "deletable": true,
    "editable": true
   },
   "source": [
    "Get the images"
   ]
  },
  {
   "cell_type": "code",
   "execution_count": null,
   "metadata": {
    "collapsed": false,
    "deletable": true,
    "editable": true
   },
   "outputs": [],
   "source": [
    "batch_size = 32\n",
    "\n",
    "# df = df.rename(columns={\"label\": \"violence\"})\n",
    "\n",
    "train_idx = df['ucla-train']\n",
    "train = df.loc[train_idx, [\"name\", \"violence\", \"protest\"] + tag_cols]\n",
    "\n",
    "test_idx = df['ucla-test']\n",
    "test = df.loc[test_idx, [\"name\", \"violence\", \"protest\"] + tag_cols]\n",
    "\n",
    "# ...and as UCLA used their test set also for validation:\n",
    "val = test\n",
    "\n",
    "# size in percentage of the various splits:\n",
    "# test_size = .2\n",
    "# val_size = .2\n",
    "# train_size = .6\n",
    "\n",
    "# train, val, test = au.getSplits(df, train_size, val_size, test_size)\n",
    "print(\"{} rows split into train: {}, validation: {}, and test: {}\".format(len(df), len(train), len(val), len(test)))\n",
    "train"
   ]
  },
  {
   "cell_type": "code",
   "execution_count": null,
   "metadata": {
    "collapsed": false,
    "deletable": true,
    "editable": true
   },
   "outputs": [],
   "source": [
    "dummy_test_generator = au.ResizeSequence(\n",
    "    df[np.random.randint(100):np.random.randint(100, 200)],\n",
    "    batch_size, \n",
    "    targets = ['protest', 'violence', tag_cols],\n",
    "    transforms = [\n",
    "        transforms.randomResizedCrop,\n",
    "        transforms.randomRotation,\n",
    "        transforms.randomHorizontalFlip,\n",
    "        transforms.colorJitter,\n",
    "        transforms.lighting, # this converts to float64, so convert to uint8 before showing with PIL\n",
    "#         transforms.normalize # looks pretty weird after this\n",
    "    ] \n",
    ")\n",
    "train_generator = au.ResizeSequence(\n",
    "    train,\n",
    "    batch_size, \n",
    "    targets = ['protest', 'violence', tag_cols],\n",
    "    transforms = [\n",
    "        transforms.randomResizedCrop,\n",
    "        transforms.randomRotation,\n",
    "        transforms.randomHorizontalFlip,\n",
    "        transforms.colorJitter,\n",
    "        transforms.lighting,\n",
    "        transforms.normalize\n",
    "    ]\n",
    ")\n",
    "validation_generator = au.ResizeSequence(\n",
    "    val,\n",
    "    batch_size, \n",
    "    targets = ['protest', 'violence', tag_cols],\n",
    "    transforms = [\n",
    "        transforms.resize,\n",
    "        transforms.centerCrop,\n",
    "        transforms.normalize\n",
    "    ]\n",
    ")\n",
    "\n",
    "# Are we using this?\n",
    "test_generator = au.ResizeSequence(test, 1, \n",
    "                                   targets = ['protest', 'violence', tag_cols])\n",
    "\n",
    "test_visual = test[tag_cols]\n",
    "test_violence = test['violence'] \n",
    "test_protest = test['protest']"
   ]
  },
  {
   "cell_type": "code",
   "execution_count": null,
   "metadata": {
    "collapsed": false,
    "deletable": true,
    "editable": true
   },
   "outputs": [],
   "source": [
    "first = next(dummy_test_generator.__iter__())\n",
    "image = first[0][0]\n",
    "protest = first[1][0]\n",
    "violence = first[1][1]\n",
    "visual = first[1][2]\n",
    "img = np.array(image)\n",
    "plt.imshow(img.astype('uint8'))\n",
    "print(\"protest has shape\", protest.shape, \" violence has shape\", violence.shape, \" visual has shape\", visual.shape)"
   ]
  },
  {
   "cell_type": "markdown",
   "metadata": {
    "deletable": true,
    "editable": true
   },
   "source": [
    "Select training and validation sets"
   ]
  },
  {
   "cell_type": "markdown",
   "metadata": {
    "deletable": true,
    "editable": true
   },
   "source": [
    "### Modeling"
   ]
  },
  {
   "cell_type": "code",
   "execution_count": null,
   "metadata": {
    "collapsed": true,
    "deletable": true,
    "editable": true
   },
   "outputs": [],
   "source": [
    "mask_value = -1\n",
    "Kbackend.clear_session()"
   ]
  },
  {
   "cell_type": "code",
   "execution_count": null,
   "metadata": {
    "collapsed": true,
    "deletable": true,
    "editable": true,
    "scrolled": false
   },
   "outputs": [],
   "source": [
    "img_input = Klayers.Input(shape=(224,224,3), name='img_input')\n",
    "\n",
    "resnet_model = Kapplications.ResNet50(include_top=False, weights = 'imagenet') (img_input)\n",
    "\n",
    "flatten = Klayers.Flatten()(resnet_model)\n",
    "\n",
    "protest_out = Klayers.Dense(1, activation='sigmoid', name='protest_out')(flatten)\n",
    "violence_out = Klayers.Dense(1, activation='sigmoid', name='violence_out')(flatten)\n",
    "visual_out = Klayers.Dense(10, activation='sigmoid', name='visual_out')(flatten)\n",
    "\n",
    "model = Kmodels.Model(inputs= img_input, outputs=[protest_out, violence_out, visual_out])\n",
    "\n",
    "\n"
   ]
  },
  {
   "cell_type": "code",
   "execution_count": null,
   "metadata": {
    "collapsed": true,
    "deletable": true,
    "editable": true
   },
   "outputs": [],
   "source": [
    "lr = 0.01; momentum = 0.9; epochs = 1000; patience = 15"
   ]
  },
  {
   "cell_type": "code",
   "execution_count": null,
   "metadata": {
    "collapsed": false,
    "deletable": true,
    "editable": true
   },
   "outputs": [],
   "source": [
    "optimizer = Koptimizers.SGD(lr=lr, momentum=momentum, nesterov=False)\n",
    "model.compile(optimizer=optimizer,\n",
    "              loss={'protest_out': Klosses.binary_crossentropy,\n",
    "                    'visual_out': au.buildMaskedLoss(Klosses.binary_crossentropy, mask_value), \n",
    "                    'violence_out': au.buildMaskedLoss(Klosses.mean_squared_error, mask_value)},\n",
    "              loss_weights={'protest_out': 1., \n",
    "                            'visual_out': 5, \n",
    "                            'violence_out': 10 })\n",
    "model.summary()"
   ]
  },
  {
   "cell_type": "code",
   "execution_count": null,
   "metadata": {
    "collapsed": false,
    "deletable": true,
    "editable": true
   },
   "outputs": [],
   "source": [
    "try:\n",
    "    __file__ # Apparently, this is not defined in the notebook,\n",
    "             # but it will be when we start running on the server\n",
    "             # (So when things gets real)\n",
    "except NameError:\n",
    "    __file__ = \"test\"\n",
    "    \n",
    "name = au.getExperimentName(__file__, len(df), epochs, lr, \"test\")\n",
    "model_checkout_path = \"models/%s.hdf5\" % name\n",
    "csv_logger_path = \"logs/%s.csv\" % name\n",
    "\n",
    "print(\"Writing model to: \\t%s\" % model_checkout_path)\n",
    "print(\"Writing log to: \\t%s\\n\" % csv_logger_path)\n",
    "\n",
    "# callbacks\n",
    "change_lr = Kcallbacks.LearningRateScheduler(au.lrUpdateUCLA, \n",
    "                                            verbose = True)\n",
    "\n",
    "checkpoint = Kcallbacks.ModelCheckpoint(model_checkout_path,\n",
    "                                       monitor='val_loss', \n",
    "                                       verbose=1,\n",
    "                                       save_best_only=True,\n",
    "                                       save_weights_only=False,\n",
    "                                       mode='auto',\n",
    "                                       period=1)\n",
    "\n",
    "# Disable for now:\n",
    "# earlystop = Kcallbacks.EarlyStopping(monitor='val_loss',\n",
    "#                                     min_delta=0, \n",
    "#                                     patience=patience,\n",
    "#                                     verbose=1, \n",
    "#                                     mode='auto')\n",
    "\n",
    "tensor_board = Kcallbacks.TensorBoard(log_dir='logs/',\n",
    "                                     histogram_freq=0,\n",
    "                                     batch_size=32, \n",
    "                                     write_graph=True,\n",
    "                                     write_grads=False, \n",
    "                                     write_images=False, \n",
    "                                     embeddings_freq=0,\n",
    "                                     embeddings_layer_names=None,\n",
    "                                     embeddings_metadata=None)\n",
    "\n",
    "csv_logger = Kcallbacks.CSVLogger(csv_logger_path, \n",
    "                                 separator=',', \n",
    "                                 append=False)"
   ]
  },
  {
   "cell_type": "code",
   "execution_count": null,
   "metadata": {
    "collapsed": false,
    "deletable": true,
    "editable": true,
    "scrolled": false
   },
   "outputs": [],
   "source": [
    "history = model.fit_generator(\n",
    "    train_generator,\n",
    "    validation_data= validation_generator,\n",
    "    epochs=epochs,\n",
    "    callbacks = [change_lr, checkpoint, tensor_board, csv_logger])"
   ]
  },
  {
   "cell_type": "markdown",
   "metadata": {
    "deletable": true,
    "editable": true
   },
   "source": [
    "### Test set evaluation"
   ]
  },
  {
   "cell_type": "code",
   "execution_count": null,
   "metadata": {
    "collapsed": false,
    "deletable": true,
    "editable": true,
    "scrolled": true
   },
   "outputs": [],
   "source": [
    "preds = model.predict_generator(test_generator)\n",
    "preds_protest = preds[0]\n",
    "preds_violence = preds[1]\n",
    "preds_visual = preds[2]\n",
    "print(\"protest shape is \", preds_protest.shape, \" violence shape is \", preds_violence.shape, \"visual shape is \", preds_visual.shape)"
   ]
  },
  {
   "cell_type": "markdown",
   "metadata": {
    "deletable": true,
    "editable": true
   },
   "source": [
    "### Protest"
   ]
  },
  {
   "cell_type": "code",
   "execution_count": null,
   "metadata": {
    "collapsed": false,
    "deletable": true,
    "editable": true,
    "scrolled": true
   },
   "outputs": [],
   "source": [
    "au.plotROC(\"protest\", test_protest, preds_protest, save_as=\"logs/ROC_protest.png\")"
   ]
  },
  {
   "cell_type": "markdown",
   "metadata": {
    "deletable": true,
    "editable": true
   },
   "source": [
    "### Visual"
   ]
  },
  {
   "cell_type": "code",
   "execution_count": null,
   "metadata": {
    "collapsed": false,
    "deletable": true,
    "editable": true,
    "scrolled": true
   },
   "outputs": [],
   "source": [
    "for i in range(preds_visual.shape[1]):\n",
    "    pred = preds_visual[:,i]\n",
    "    target = test_visual.iloc[:,i]\n",
    "    \n",
    "    # remove masked values from test set\n",
    "    target_non_masked = target[target!= -1]\n",
    "    pred_non_masked = pred[target!= -1]\n",
    "    \n",
    "    attr_indx = 3 + i # the visual attributes start from the 4th pos\n",
    "    attr = df.columns[attr_indx]\n",
    "    print(attr)\n",
    "    try:\n",
    "        au.plotROC(attr, target_non_masked, pred_non_masked, save_as=\"logs//ROC_{}.png\".format(i))\n",
    "    except Exception as e:\n",
    "        print(e)"
   ]
  },
  {
   "cell_type": "markdown",
   "metadata": {
    "deletable": true,
    "editable": true
   },
   "source": [
    "### Violence"
   ]
  },
  {
   "cell_type": "code",
   "execution_count": null,
   "metadata": {
    "collapsed": true,
    "deletable": true,
    "editable": true
   },
   "outputs": [],
   "source": [
    "# remove masked values from test set\n",
    "non_masked_violence_true = test_violence[test_violence!= -1].tolist()\n",
    "non_masked_violence_preds = preds_violence[test_violence!= -1].flatten().tolist()"
   ]
  },
  {
   "cell_type": "code",
   "execution_count": null,
   "metadata": {
    "collapsed": false,
    "deletable": true,
    "editable": true
   },
   "outputs": [],
   "source": [
    "fig, ax = plt.subplots()\n",
    "plt.scatter(non_masked_violence_true, non_masked_violence_preds, label = \"violence\")\n",
    "plt.xlim([-.05,1.05])\n",
    "plt.ylim([-.05,1.05])\n",
    "plt.xlabel('Annotation', fontsize = 15)\n",
    "plt.ylabel('Predicton', fontsize = 15)\n",
    "corr, pval = scipy.stats.pearsonr(non_masked_violence_true, non_masked_violence_preds)\n",
    "plt.title(('Scatter Plot for {attr} (Correlation = {corr:.3f})'\n",
    "            .format(attr = \"violence\", corr= corr)), fontsize = 15)\n",
    "plt.savefig(\"logs/pred_vs_truth_scatter.png\")"
   ]
  },
  {
   "cell_type": "code",
   "execution_count": null,
   "metadata": {
    "collapsed": true,
    "deletable": true,
    "editable": true
   },
   "outputs": [],
   "source": []
  }
 ],
 "metadata": {
  "kernelspec": {
   "display_name": "Python 3",
   "language": "python",
   "name": "python3"
  },
  "language_info": {
   "codemirror_mode": {
    "name": "ipython",
    "version": 3
   },
   "file_extension": ".py",
   "mimetype": "text/x-python",
   "name": "python",
   "nbconvert_exporter": "python",
   "pygments_lexer": "ipython3",
   "version": "3.5.2"
  }
 },
 "nbformat": 4,
 "nbformat_minor": 2
}
